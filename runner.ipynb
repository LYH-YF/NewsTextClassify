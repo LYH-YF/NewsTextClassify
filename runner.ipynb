{
 "metadata": {
  "language_info": {
   "codemirror_mode": {
    "name": "ipython",
    "version": 3
   },
   "file_extension": ".py",
   "mimetype": "text/x-python",
   "name": "python",
   "nbconvert_exporter": "python",
   "pygments_lexer": "ipython3",
   "version": "3.7.0-final"
  },
  "orig_nbformat": 2,
  "kernelspec": {
   "name": "python3",
   "display_name": "Python 3"
  }
 },
 "nbformat": 4,
 "nbformat_minor": 2,
 "cells": [
  {
   "cell_type": "code",
   "execution_count": 1,
   "metadata": {},
   "outputs": [],
   "source": [
    "import pandas as pd\n",
    "import json"
   ]
  },
  {
   "cell_type": "code",
   "execution_count": 2,
   "metadata": {},
   "outputs": [
    {
     "output_type": "stream",
     "name": "stdout",
     "text": [
      "                                         label\\ttext\n0  2\\t2967 6758 339 2021 1854 3731 4109 3792 4149...\n1  11\\t4464 486 6352 5619 2465 4802 1452 3137 577...\n2  3\\t7346 4068 5074 3747 5681 6093 1777 2226 735...\n3  2\\t7159 948 4866 2109 5520 2490 211 3956 5520 ...\n4  3\\t3646 3055 3055 2490 4659 6065 3370 5814 246...\n"
     ]
    }
   ],
   "source": [
    "train_datas=pd.read_csv(\"data/train_set.csv\")\n",
    "print(train_datas.head())\n",
    "train_datas=train_datas.values.tolist()"
   ]
  },
  {
   "cell_type": "code",
   "execution_count": 3,
   "metadata": {},
   "outputs": [
    {
     "output_type": "stream",
     "name": "stdout",
     "text": [
      "processed:199001"
     ]
    }
   ],
   "source": [
    "x=0\n",
    "for data in train_datas:\n",
    "    x+=1\n",
    "    label_input=data[0].split(\"\\t\")\n",
    "    label=int(label_input[0])\n",
    "    inputs=[int(i) for i in label_input[1].split(\" \")]\n",
    "    json_data={\"id\":x,\"label\":label,\"text\":inputs}\n",
    "    path=\"data/processed/trainset_\"+str(x)+\".json\"\n",
    "    with open(path,mode=\"w\") as f:\n",
    "        json_data=json.dumps(json_data,indent=4)\n",
    "        f.write(json_data)\n",
    "    f.close()\n",
    "    if x%1000==1:\n",
    "        print(\"\\rprocessed:%d\"% x,end=\"\")"
   ]
  },
  {
   "cell_type": "code",
   "execution_count": null,
   "metadata": {},
   "outputs": [],
   "source": [
    "import json\n",
    "x=0\n",
    "for data in processed_datas:\n",
    "    x+=1\n",
    "    path=\"data/processed_trainset_\"+str(data[\"id\"])+\".json\"\n",
    "    with open(path,mode=\"a+\") as f:\n",
    "        json_data=json.dumps(data,indent=4)\n",
    "        f.write(json_data)\n",
    "    f.close()\n",
    "    print(\"\\rsaved:%d\"% x,end=\"\")"
   ]
  },
  {
   "cell_type": "code",
   "execution_count": 7,
   "metadata": {},
   "outputs": [
    {
     "output_type": "stream",
     "name": "stdout",
     "text": [
      "10000"
     ]
    }
   ],
   "source": [
    "import json\n",
    "import random\n",
    "id_list=list(range(200000))\n",
    "valid_id=random.sample(id_list,k=10000)\n",
    "x=0\n",
    "for i in valid_id:\n",
    "    x+=1\n",
    "    print(\"\\r%d\"% x,end=\"\")\n",
    "    id_list.remove(i)\n",
    "with open(\"data/train_id.json\",mode=\"a+\") as f:\n",
    "    id_list=json.dumps(id_list,indent=4)\n",
    "    f.write(id_list)\n",
    "f.close()\n",
    "with open(\"data/valid_id.json\",mode=\"a+\") as f:\n",
    "    valid_id=json.dumps(valid_id,indent=4)\n",
    "    f.write(valid_id)\n",
    "f.close()"
   ]
  },
  {
   "cell_type": "code",
   "execution_count": null,
   "metadata": {},
   "outputs": [],
   "source": []
  }
 ]
}